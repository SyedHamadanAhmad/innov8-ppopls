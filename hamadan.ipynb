{
 "cells": [
  {
   "cell_type": "code",
   "execution_count": 1,
   "metadata": {},
   "outputs": [],
   "source": [
    "import pandas as pd\n",
    "df=pd.read_csv('./data.csv')"
   ]
  },
  {
   "cell_type": "code",
   "execution_count": 4,
   "metadata": {},
   "outputs": [
    {
     "data": {
      "text/plain": [
       "(10,)"
      ]
     },
     "execution_count": 4,
     "metadata": {},
     "output_type": "execute_result"
    }
   ],
   "source": [
    "df['species'].unique().shape"
   ]
  },
  {
   "cell_type": "code",
   "execution_count": 5,
   "metadata": {},
   "outputs": [
    {
     "data": {
      "text/html": [
       "<div>\n",
       "<style scoped>\n",
       "    .dataframe tbody tr th:only-of-type {\n",
       "        vertical-align: middle;\n",
       "    }\n",
       "\n",
       "    .dataframe tbody tr th {\n",
       "        vertical-align: top;\n",
       "    }\n",
       "\n",
       "    .dataframe thead th {\n",
       "        text-align: right;\n",
       "    }\n",
       "</style>\n",
       "<table border=\"1\" class=\"dataframe\">\n",
       "  <thead>\n",
       "    <tr style=\"text-align: right;\">\n",
       "      <th></th>\n",
       "      <th>message</th>\n",
       "      <th>fingers</th>\n",
       "      <th>tail</th>\n",
       "      <th>species</th>\n",
       "    </tr>\n",
       "  </thead>\n",
       "  <tbody>\n",
       "    <tr>\n",
       "      <th>0</th>\n",
       "      <td>pluvia arbor aquos</td>\n",
       "      <td>4</td>\n",
       "      <td>no</td>\n",
       "      <td>Aquari</td>\n",
       "    </tr>\n",
       "    <tr>\n",
       "      <th>1</th>\n",
       "      <td>cosmix xeno nebuz odbitaz</td>\n",
       "      <td>5</td>\n",
       "      <td>yes</td>\n",
       "      <td>Zorblax</td>\n",
       "    </tr>\n",
       "    <tr>\n",
       "      <th>2</th>\n",
       "      <td>solarix glixx novum galaxum quasar</td>\n",
       "      <td>5</td>\n",
       "      <td>yes</td>\n",
       "      <td>Zorblax</td>\n",
       "    </tr>\n",
       "    <tr>\n",
       "      <th>3</th>\n",
       "      <td>arbor insectus pesros ekos dootix nimbus</td>\n",
       "      <td>2</td>\n",
       "      <td>yes</td>\n",
       "      <td>Florian</td>\n",
       "    </tr>\n",
       "    <tr>\n",
       "      <th>4</th>\n",
       "      <td>mermax drakos lorix epikoz deftax</td>\n",
       "      <td>4</td>\n",
       "      <td>no</td>\n",
       "      <td>Faerix</td>\n",
       "    </tr>\n",
       "  </tbody>\n",
       "</table>\n",
       "</div>"
      ],
      "text/plain": [
       "                                    message  fingers tail  species\n",
       "0                        pluvia arbor aquos        4   no   Aquari\n",
       "1                 cosmix xeno nebuz odbitaz        5  yes  Zorblax\n",
       "2        solarix glixx novum galaxum quasar        5  yes  Zorblax\n",
       "3  arbor insectus pesros ekos dootix nimbus        2  yes  Florian\n",
       "4         mermax drakos lorix epikoz deftax        4   no   Faerix"
      ]
     },
     "execution_count": 5,
     "metadata": {},
     "output_type": "execute_result"
    }
   ],
   "source": [
    "df.head()"
   ]
  },
  {
   "cell_type": "code",
   "execution_count": 12,
   "metadata": {},
   "outputs": [
    {
     "name": "stdout",
     "output_type": "stream",
     "text": [
      "Common words across different species: {'terranix', 'astron', 'solux', 'goblax', 'xeno', 'galaxum', 'zephyr', 'elvex', 'deitax', 'pulsar', 'aviana', 'unikor', 'sagax', 'nebuz', 'solarix', 'novum', 'awezom', 'titanos', 'celestar', 'aquos', 'dronix', 'herox', 'disgux', 'floren', 'sirenix', 'ekstax', 'arbor', 'robonix', 'furio', 'warpz', 'dredax', 'biotex', 'glixx', 'algorix', 'nexus', 'zorp', 'drakos', 'floran', 'synapz', 'cryptoz', 'ufox', 'cybron', 'legax', 'pollex', 'sorrowz', 'nympha', 'biomar', 'haunar', 'empathix', 'epikoz', 'blissam', 'insectus', 'digitron', 'nebulax', 'floraz', 'quasar', 'ventus', 'datax', 'calmox', 'beastix', 'cyclopix', 'aeon', 'relikum', 'gryphox', 'luvium', 'orbitaz', 'rootix', 'virtua', 'petros', 'centarex', 'quantaz', 'gleex', 'joyzor', 'ariana', 'ekos', 'cosmix', 'novara', 'euphorix', 'blapoz', 'fenix', 'holox', 'vortex', 'shockus', 'zenox', 'technos', 'anxius', 'hopium', 'terram', 'lorix', 'shamex', 'kometa', 'trustix', 'seepod', 'mermax', 'gaiax', 'fearix', 'faunar', 'fabulon', 'herba', 'lunox', 'vridius', 'lazeron', 'techix', 'excitar', 'foliar', 'magix', 'nanobyt', 'krakos', 'seypod', 'meteorn', 'angstix', 'faerix', 'cybrex', 'kkmeta', 'leafon', 'pluvia', 'ragex', 'sadix', 'stardux', 'codex', 'pridius', 'mythox', 'nanozom', 'novax', 'circux', 'nimbus', 'neuraz', 'quantix', 'mechan', 'sporzom', 'pulsox'}\n"
     ]
    }
   ],
   "source": [
    "def find_common_across_different_species(df):\n",
    "    common_words = set()\n",
    "    # Compare each pair of rows where species are different\n",
    "    for i in range(len(df)):\n",
    "        for j in range(i + 1, len(df)):\n",
    "            if df.loc[i, 'species'] != df.loc[j, 'species']:  # Check if species are different\n",
    "                common = df.loc[i, 'word_set'].intersection(df.loc[j, 'word_set'])\n",
    "                common_words.update(common)\n",
    "    return common_words\n",
    "\n",
    "# Get the common words across different species\n",
    "common_words_diff_species = find_common_across_different_species(df)\n",
    "\n",
    "print(\"Common words across different species:\", common_words_diff_species)\n",
    "\n"
   ]
  },
  {
   "cell_type": "code",
   "execution_count": 13,
   "metadata": {},
   "outputs": [
    {
     "data": {
      "text/plain": [
       "131"
      ]
     },
     "execution_count": 13,
     "metadata": {},
     "output_type": "execute_result"
    }
   ],
   "source": [
    "len(common_words_diff_species)"
   ]
  },
  {
   "cell_type": "code",
   "execution_count": null,
   "metadata": {},
   "outputs": [],
   "source": []
  }
 ],
 "metadata": {
  "kernelspec": {
   "display_name": "innov8",
   "language": "python",
   "name": "python3"
  },
  "language_info": {
   "codemirror_mode": {
    "name": "ipython",
    "version": 3
   },
   "file_extension": ".py",
   "mimetype": "text/x-python",
   "name": "python",
   "nbconvert_exporter": "python",
   "pygments_lexer": "ipython3",
   "version": "3.10.10"
  }
 },
 "nbformat": 4,
 "nbformat_minor": 2
}
