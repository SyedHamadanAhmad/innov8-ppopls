{
 "cells": [
  {
   "cell_type": "code",
   "execution_count": 5,
   "metadata": {},
   "outputs": [],
   "source": [
    "import pandas as pd\n",
    "df=pd.read_csv('./data.csv')"
   ]
  },
  {
   "cell_type": "code",
   "execution_count": 6,
   "metadata": {},
   "outputs": [
    {
     "data": {
      "text/html": [
       "<div>\n",
       "<style scoped>\n",
       "    .dataframe tbody tr th:only-of-type {\n",
       "        vertical-align: middle;\n",
       "    }\n",
       "\n",
       "    .dataframe tbody tr th {\n",
       "        vertical-align: top;\n",
       "    }\n",
       "\n",
       "    .dataframe thead th {\n",
       "        text-align: right;\n",
       "    }\n",
       "</style>\n",
       "<table border=\"1\" class=\"dataframe\">\n",
       "  <thead>\n",
       "    <tr style=\"text-align: right;\">\n",
       "      <th></th>\n",
       "      <th>message</th>\n",
       "      <th>fingers</th>\n",
       "      <th>tail</th>\n",
       "      <th>species</th>\n",
       "    </tr>\n",
       "  </thead>\n",
       "  <tbody>\n",
       "    <tr>\n",
       "      <th>0</th>\n",
       "      <td>pluvia arbor aquos</td>\n",
       "      <td>4</td>\n",
       "      <td>no</td>\n",
       "      <td>Aquari</td>\n",
       "    </tr>\n",
       "    <tr>\n",
       "      <th>1</th>\n",
       "      <td>cosmix xeno nebuz odbitaz</td>\n",
       "      <td>5</td>\n",
       "      <td>yes</td>\n",
       "      <td>Zorblax</td>\n",
       "    </tr>\n",
       "    <tr>\n",
       "      <th>2</th>\n",
       "      <td>solarix glixx novum galaxum quasar</td>\n",
       "      <td>5</td>\n",
       "      <td>yes</td>\n",
       "      <td>Zorblax</td>\n",
       "    </tr>\n",
       "    <tr>\n",
       "      <th>3</th>\n",
       "      <td>arbor insectus pesros ekos dootix nimbus</td>\n",
       "      <td>2</td>\n",
       "      <td>yes</td>\n",
       "      <td>Florian</td>\n",
       "    </tr>\n",
       "    <tr>\n",
       "      <th>4</th>\n",
       "      <td>mermax drakos lorix epikoz deftax</td>\n",
       "      <td>4</td>\n",
       "      <td>no</td>\n",
       "      <td>Faerix</td>\n",
       "    </tr>\n",
       "  </tbody>\n",
       "</table>\n",
       "</div>"
      ],
      "text/plain": [
       "                                    message  fingers tail  species\n",
       "0                        pluvia arbor aquos        4   no   Aquari\n",
       "1                 cosmix xeno nebuz odbitaz        5  yes  Zorblax\n",
       "2        solarix glixx novum galaxum quasar        5  yes  Zorblax\n",
       "3  arbor insectus pesros ekos dootix nimbus        2  yes  Florian\n",
       "4         mermax drakos lorix epikoz deftax        4   no   Faerix"
      ]
     },
     "execution_count": 6,
     "metadata": {},
     "output_type": "execute_result"
    }
   ],
   "source": [
    "df.head()"
   ]
  },
  {
   "cell_type": "code",
   "execution_count": 7,
   "metadata": {},
   "outputs": [
    {
     "name": "stdout",
     "output_type": "stream",
     "text": [
      "Aquari : {Words: {'gaisx', 'zephyr', 'pallex', 'aquoe', 'tekranix', 'fboraz', 'herba', 'ekos', 'nimbus', 'arcor', 'rookix', 'leaion', 'floren', 'aqjos', 'terramix', 'floran', 'pluvia', 'terranix', 'tehranix', 'fephyr', 'ariana', 'fobiar', 'arbsr', 'seypod', 'florgz', 'herbw', 'riotix', 'sporzom', 'biompr', 'floraz', 'seepod', 'terram', 'xaunar', 'ventus', 'sponzom', 'rootix', 'foliar', 'haunar', 'sorux', 'arbor', 'ieafon', 'mephyr', 'leafon', 'pollex', 'aviana', 'insectus', 'leofon', 'gaial', 'faunar', 'gaiax', 'aviyna', 'biomar', 'folnar', 'nikbus', 'aquos', 'yentus', 'nerba', 'aquon', 'sporlom', 'soluz', 'solux', 'zquos', 'hfrba', 'petros', 'gayax', 'insfctus'} , body: {(4, 0), (2, 0), (5, 1), (3, 0), (5, 0), (6, 0), (4, 1)}}\n",
      "Zorblax : {Words: {'orbitam', 'puqsox', 'sovax', 'solariy', 'novax', 'solarrx', 'cosmix', 'junox', 'kometa', 'vortex', 'xene', 'stjrdux', 'eeno', 'xeno', 'meteorn', 'zorp', 'puksox', 'orbitay', 'nebulax', 'meteoen', 'odbitaz', 'novara', 'wanpz', 'pulsoo', 'stnrdux', 'quasar', 'lunbx', 'lunnx', 'orbitaz', 'ufox', 'galaxum', 'ulapoz', 'ueox', 'kometr', 'kometo', 'pclsox', 'meteokn', 'rtardux', 'pzlsar', 'nebuz', 'nomax', 'kkmeta', 'novafa', 'pulson', 'lunox', 'dortex', 'czlestar', 'glixx', 'oxbitaz', 'ncbuz', 'nivara', 'lunol', 'novum', 'zyrp', 'blapoz', 'vorcex', 'asbron', 'zorf', 'celestar', 'nxbuz', 'ialaxum', 'pulsox', 'qfox', 'pulsoh', 'cosmia', 'pulsar', 'astron', 'nebulix', 'horp', 'nebzz', 'stardux', 'astrob', 'gyixx', 'ceaestar', 'blatoz', 'nebuhax', 'zalaxum', 'solarix', 'neguz', 'warpz', 'qudsar', 'movara'} , body: {(4, 0), (7, 1), (8, 1), (6, 1), (7, 0), (5, 1), (8, 0), (3, 0), (5, 0), (6, 0), (9, 1), (4, 1)}}\n",
      "Florian : {Words: {'zephyr', 'oimbus', 'aqpos', 'biomvr', 'terkam', 'ekos', 'nimbus', 'pldvia', 'sporzlm', 'floren', 'insestus', 'akiana', 'onsectus', 'floxan', 'tprranix', 'tkos', 'sporzom', 'seepod', 'terram', 'gjiax', 'folwar', 'foliar', 'leafon', 'avisna', 'solix', 'pollex', 'aviana', 'arbon', 'terrnm', 'zgphyr', 'insectus', 'faunar', 'cimbus', 'gaiax', 'yaiax', 'nimbub', 'biomar', 'roltix', 'terpam', 'sllux', 'selux', 'solux', 'petros', 'gaikx', 'flodan', 'gniax', 'aviaia', 'herba', 'biumar', 'izsectus', 'solax', 'floran', 'pluvia', 'beepod', 'fsunar', 'terranix', 'ariana', 'seypod', 'avcana', 'terrrm', 'floraz', 'ventus', 'rootix', 'haunar', 'pesros', 'arbor', 'seepoa', 'lehfon', 'folixr', 'floraj', 'aquos', 'seepos', 'dootix', 'hzrba', 'sporpom', 'leffon'} , body: {(0, 1), (4, 0), (2, 1), (3, 1), (1, 1), (5, 1), (3, 0), (5, 0), (1, 0), (4, 1)}}\n",
      "Faerix : {Words: {'kgakos', 'cyclopix', 'epgkoz', 'kmakos', 'tetanos', 'coblax', 'fenix', 'deitax', 'znikor', 'epikoz', 'centarex', 'mermav', 'mythxx', 'cycvopix', 'centarkx', 'magix', 'kzakos', 'sirenix', 'sagax', 'sirtnix', 'relikum', 'gryphox', 'goblam', 'grbphox', 'beastix', 'fefix', 'eythox', 'tenix', 'titanos', 'krakos', 'cenix', 'faeyix', 'goilax', 'beadtix', 'xnikor', 'mermax', 'malix', 'fabulon', 'nymphb', 'herox', 'rrakos', 'drakos', 'krakoc', 'titanor', 'ebvex', 'sagav', 'legax', 'deftax', 'dmakos', 'eegax', 'gryohox', 'nympha', 'gryphod', 'gryphov', 'beastit', 'goblax', 'heeox', 'unikor', 'elqex', 'deitzx', 'ltrix', 'centarea', 'faoulon', 'epikiz', 'lorix', 'faerix', 'relikzm', 'rnlikum', 'krmkos', 'mythox', 'gmblax', 'elvex'} , body: {(4, 0), (3, 1), (2, 0), (3, 0), (5, 0), (4, 1)}}\n",
      "Nexoon : {Words: {'ciwcux', 'droeix', 'cosex', 'nexus', 'cybrex', 'techix', 'quaztaz', 'digitron', 'technoc', 'dajax', 'quantix', 'oanobyt', 'aeop', 'crypooz', 'quagtix', 'chbrex', 'aeqn', 'robonib', 'technos', 'biokex', 'synapz', 'oronix', 'lazerom', 'nawozom', 'cryptoz', 'biorex', 'datax', 'lazeron', 'quantaz', 'holox', 'chrcux', 'yircux', 'digitvon', 'mechan', 'akon', 'techip', 'lazervn', 'qexus', 'nanobyt', 'dataz', 'cebrex', 'synapx', 'cybdex', 'circum', 'tkchnos', 'aeon', 'nircux', 'virtud', 'fazeron', 'virtua', 'hechan', 'cryftoz', 'neuraz', 'nanozod', 'cybron', 'robonix', 'nanozom', 'codex', 'nexhs', 'technds', 'circux', 'lazxron', 'tvchnos', 'biotex', 'dronix', 'holxx', 'tobonix', 'quanyaz', 'dybron', 'algorix'} , body: {(4, 0), (7, 1), (2, 1), (3, 1), (6, 1), (1, 1), (2, 0), (5, 1), (3, 0), (5, 0), (6, 0), (4, 1)}}\n",
      "Mythron : {Words: {'cyclopix', 'reljkum', 'faerkx', 'euvex', 'lsrix', 'draaos', 'fenix', 'mythjx', 'sagaq', 'deitax', 'epikoz', 'centarex', 'mermal', 'magix', 'corix', 'fenpx', 'gobqax', 'sagmx', 'worix', 'epikot', 'centarer', 'nydpha', 'sirenix', 'sagax', 'beastpx', 'ftbulon', 'relikum', 'gryphox', 'deirax', 'mymhox', 'cycbopix', 'beastix', 'sagaa', 'magit', 'titanos', 'krakos', 'beasxix', 'heyox', 'mermax', 'fjerix', 'eiikoz', 'fabulon', 'feniy', 'herox', 'faemix', 'beastij', 'elwex', 'mzgix', 'drakos', 'airenix', 'sagau', 'fenwx', 'grypyox', 'gryphpx', 'mormax', 'legax', 'dbakos', 'gobfax', 'nympha', 'titayos', 'surenix', 'goblax', 'dpitax', 'unikor', 'ddakos', 'herux', 'gabulon', 'centarnx', 'sagsx', 'lorix', 'sirepix', 'fenii', 'blastix', 'faerix', 'feyix', 'mythox', 'mytqox', 'aoblax', 'bitanos', 'elvex', 'goblex'} , body: {(4, 0), (7, 1), (8, 1), (3, 1), (6, 1), (7, 0), (5, 1), (8, 0), (5, 0), (6, 0), (4, 1)}}\n",
      "Emotivor : {Words: {'trustix', 'angsqix', 'anxiuz', 'ragbx', 'cridius', 'awezom', 'angstic', 'duedax', 'sapix', 'ekstox', 'sadix', 'sorrowz', 'fearix', 'ragex', 'gleex', 'pridiuo', 'furix', 'dredax', 'calmox', 'gleek', 'jpyzor', 'dredzx', 'venox', 'empathix', 'sadpx', 'awozom', 'disgux', 'bliisam', 'hopium', 'cacmox', 'tbustix', 'lrvium', 'euphorix', 'luzium', 'soyrowz', 'przdius', 'shamex', 'bgissam', 'pridius', 'afgstix', 'joyzor', 'excitar', 'awezon', 'disgub', 'geeex', 'hopipm', 'fopium', 'dreiax', 'rages', 'vridius', 'bdissam', 'lenox', 'zenox', 'jhamex', 'sqockus', 'blissxm', 'shockus', 'disvux', 'flarix', 'pridiun', 'shockss', 'blissam', 'blisqam', 'furio', 'gleea', 'luvium', 'bliskam', 'disgue', 'anxids', 'anxius', 'gpeex', 'truotix', 'angstix', 'aneius', 'dreeax', 'sasix', 'ekstax', 'gleed'} , body: {(2, 1), (0, 0), (3, 1), (1, 1), (2, 0), (3, 0), (1, 0)}}\n",
      "Sentire : {Words: {'tqustix', 'trustix', 'kxcitar', 'calmoa', 'kurio', 'egphorix', 'awezom', 'zeqox', 'sadix', 'fearix', 'sorrowz', 'sorrowa', 'ragex', 'gleex', 'cenox', 'cqlmox', 'febrix', 'jlyzor', 'dredax', 'calmox', 'trusqix', 'luvgum', 'dredai', 'empathix', 'ghamex', 'boyzor', 'disgux', 'angxtix', 'anxims', 'awezox', 'hopium', 'ragux', 'euphorix', 'ferrix', 'shamex', 'jxcitar', 'zenow', 'blnssam', 'owezom', 'pridius', 'fearjx', 'mopium', 'joyzor', 'zenrx', 'excitar', 'excitav', 'ekltax', 'euphorgx', 'euphorsx', 'vridius', 'ekstdx', 'shockbs', 'zenox', 'sudix', 'dtsgux', 'angstox', 'nrustix', 'blissac', 'blissam', 'euphorim', 'empnthix', 'furio', 'lumium', 'trusuix', 'annstix', 'truztix', 'shockws', 'luvium', 'hopjum', 'anxius', 'angstix', 'blessam', 'empathtx', 'excvtar', 'shockus', 'anzius', 'ekstax'} , body: {(4, 0), (2, 1), (3, 1), (6, 1), (5, 1), (3, 0), (5, 0), (6, 0), (4, 1)}}\n",
      "Quixnar : {Words: {'nokax', 'warpu', 'yosmix', 'gmlaxum', 'novax', 'norax', 'celejtar', 'pulaar', 'cosmix', 'kometa', 'vortex', 'galaxym', 'novtm', 'xeno', 'meteorn', 'zorp', 'novgx', 'nebulax', 'astrrn', 'mefeorn', 'bvapoz', 'novara', 'metlorn', 'cehestar', 'febulax', 'puxsar', 'quasar', 'ghixx', 'celwstar', 'orbitaz', 'ufox', 'nebuoax', 'astrln', 'galaxum', 'cosmpx', 'orbitzz', 'novwx', 'blapnz', 'cofmix', 'svardux', 'cewestar', 'nebulyx', 'uxox', 'galaxuw', 'hosmix', 'nebuz', 'xenn', 'ufoi', 'kkmeta', 'kometk', 'lunox', 'glixx', 'ngbulax', 'blaloz', 'astroh', 'nibulax', 'novum', 'bqapoz', 'blapoz', 'qebuz', 'lunrx', 'corp', 'aslron', 'celestar', 'ufow', 'vcrtex', 'etardux', 'pulsox', 'qualar', 'pulsar', 'novarr', 'glcxx', 'astron', 'nxbulax', 'ornitaz', 'solarih', 'ustron', 'xenl', 'zolp', 'stardux', 'yebuz', 'voutex', 'iovum', 'solarix', 'nebusax', 'uhox', 'warpz', 'celistar'} , body: {(4, 0), (3, 1), (6, 1), (2, 0), (5, 1), (3, 0), (5, 0), (6, 0), (4, 1)}}\n",
      "Cybex : {Words: {'qulntaz', 'synafz', 'ueon', 'tecfnos', 'datxx', 'digitron', 'techix', 'dawax', 'technos', 'cybfon', 'vazeron', 'vexus', 'roboqix', 'mechun', 'quantay', 'synajz', 'lazeron', 'quantaz', 'mechan', 'nanobyt', 'cybrpx', 'acon', 'datas', 'virtua', 'nanocom', 'cixcux', 'cybron', 'nanozom', 'civcux', 'zechan', 'hollx', 'circux', 'yobonix', 'biotex', 'dronix', 'tecanos', 'neuraz', 'cywrex', 'djonix', 'nexus', 'cybrex', 'nantzom', 'syuapz', 'lazerqn', 'quantix', 'nunobyt', 'weon', 'techih', 'cbbron', 'nzuraz', 'synapz', 'cybroi', 'synadz', 'quanaaz', 'neulaz', 'drosix', 'cryptoz', 'robonis', 'digitrtn', 'quansix', 'datax', 'holox', 'sechnos', 'cydex', 'chyptoz', 'holsx', 'crqptoz', 'algorid', 'aeon', 'wronix', 'codeu', 'digitrop', 'codex', 'robonix', 'robdnix', 'algorix', 'modex'} , body: {(0, 1), (4, 0), (0, 0), (3, 1), (1, 1), (2, 0), (3, 0), (1, 0)}}\n"
     ]
    }
   ],
   "source": [
    "import pandas as pd\n",
    "\n",
    "# Example DataFrame\n",
    "# data = {\n",
    "#     'message': ['pluvia arbor aquos', 'cosmix xeno nebuz odbitaz', 'solarix glixx novum galaxum quasar', \n",
    "#                 'arbor insectus pesros ekos dootix nimbus', 'mermax drakos lorix epikoz deftax'],\n",
    "#     'fingers': [4, 5, 5, 2, 4],\n",
    "#     'tail': ['no', 'yes', 'yes', 'yes', 'no'],\n",
    "#     'species': ['Aquari', 'Zorblax', 'Zorblax', 'Florian', 'Faerix']\n",
    "# }\n",
    "\n",
    "# df = pd.DataFrame(data)\n",
    "\n",
    "# Function to map 'yes'/'no' to 1/0 for tail\n",
    "df['tail_binary'] = df['tail'].map({'yes': 1, 'no': 0})\n",
    "\n",
    "# Create the map\n",
    "species_map = {}\n",
    "\n",
    "for index, row in df.iterrows():\n",
    "    species = row['species']\n",
    "    \n",
    "    # Get the set of words from the message\n",
    "    words_set = set(row['message'].split())\n",
    "    \n",
    "    # Get the body details (fingers and tail status)\n",
    "    body_details = {row['fingers'], row['tail_binary']}\n",
    "    \n",
    "    # If species is already in the map, update the sets\n",
    "    if species in species_map:\n",
    "        species_map[species]['Words'].update(words_set)\n",
    "        species_map[species]['body'].add((row['fingers'], row['tail_binary']))\n",
    "    else:\n",
    "        species_map[species] = {\n",
    "            'Words': words_set,\n",
    "            'body': {(row['fingers'], row['tail_binary'])}\n",
    "        }\n",
    "\n",
    "# Output the result\n",
    "for species, details in species_map.items():\n",
    "    print(f\"{species} : {{Words: {details['Words']} , body: {details['body']}}}\")\n"
   ]
  },
  {
   "cell_type": "code",
   "execution_count": 14,
   "metadata": {},
   "outputs": [
    {
     "name": "stdout",
     "output_type": "stream",
     "text": [
      "Ranked species based on word overlap:\n",
      "1. Aquari (Score: 3)\n",
      "2. Florian (Score: 3)\n",
      "3. Zorblax (Score: 0)\n",
      "4. Faerix (Score: 0)\n",
      "5. Nexoon (Score: 0)\n",
      "6. Mythron (Score: 0)\n",
      "7. Emotivor (Score: 0)\n",
      "8. Sentire (Score: 0)\n",
      "9. Quixnar (Score: 0)\n",
      "10. Cybex (Score: 0)\n"
     ]
    }
   ],
   "source": [
    "def rank_species_by_message(input_message, species_map):\n",
    "    # Tokenize the input message into words\n",
    "    input_words = set(input_message.split())\n",
    "    \n",
    "    # Create a list to store the species ranking\n",
    "    ranking = []\n",
    "    \n",
    "    # Compare input words with each species' word set\n",
    "    for species, details in species_map.items():\n",
    "        common_words = input_words.intersection(details['Words'])\n",
    "        score = len(common_words)  # Score based on the number of common words\n",
    "        ranking.append((species, score))\n",
    "    \n",
    "    # Sort species by score in descending order\n",
    "    ranking = sorted(ranking, key=lambda x: x[1], reverse=True)\n",
    "    \n",
    "    return ranking\n",
    "\n",
    "# Example usage\n",
    "input_message = \"pluvia arbor aquos\t\"\n",
    "\n",
    "# Call the function to rank species\n",
    "species_ranking = rank_species_by_message(input_message, species_map)\n",
    "\n",
    "# Output the ranked species\n",
    "print(\"Ranked species based on word overlap:\")\n",
    "for rank, (species, score) in enumerate(species_ranking, start=1):\n",
    "    print(f\"{rank}. {species} (Score: {score})\")\n"
   ]
  },
  {
   "cell_type": "code",
   "execution_count": 13,
   "metadata": {},
   "outputs": [
    {
     "name": "stdout",
     "output_type": "stream",
     "text": [
      "Ranked species based on word and body overlap:\n",
      "1. Aquari (Score: 5)\n",
      "2. Florian (Score: 5)\n",
      "3. Zorblax (Score: 2)\n",
      "4. Faerix (Score: 2)\n",
      "5. Nexoon (Score: 2)\n",
      "6. Mythron (Score: 2)\n",
      "7. Sentire (Score: 2)\n",
      "8. Quixnar (Score: 2)\n",
      "9. Cybex (Score: 2)\n",
      "10. Emotivor (Score: 0)\n"
     ]
    }
   ],
   "source": [
    "def rank_species_by_message_and_body(input_message, input_fingers, input_tail, species_map):\n",
    "    # Tokenize the input message into words\n",
    "    input_words = set(input_message.split())\n",
    "    \n",
    "    # Create a list to store the species ranking\n",
    "    ranking = []\n",
    "    \n",
    "    # Compare input words and body characteristics with each species\n",
    "    for species, details in species_map.items():\n",
    "        # Compare message words\n",
    "        common_words = input_words.intersection(details['Words'])\n",
    "        word_score = len(common_words)  # Score based on the number of common words\n",
    "        \n",
    "        # Compare body characteristics\n",
    "        body_match = (input_fingers, input_tail) in details['body']\n",
    "        body_score = 1 if body_match else 0  # Give a score of 2 if both body parts match\n",
    "        \n",
    "        # Total score = word score + body score\n",
    "        total_score = word_score + body_score\n",
    "        ranking.append((species, total_score))\n",
    "    \n",
    "    # Sort species by total score in descending order\n",
    "    ranking = sorted(ranking, key=lambda x: x[1], reverse=True)\n",
    "    \n",
    "    return ranking\n",
    "\n",
    "# Example usage\n",
    "input_message = \"pluvia arbor aquos\"\n",
    "input_fingers = 4\n",
    "input_tail = 0  # 1 means \"yes\", the species has a tail\n",
    "\n",
    "# Call the function to rank species based on message and body\n",
    "species_ranking = rank_species_by_message_and_body(input_message, input_fingers, input_tail, species_map)\n",
    "\n",
    "# Output the ranked species\n",
    "print(\"Ranked species based on word and body overlap:\")\n",
    "for rank, (species, score) in enumerate(species_ranking, start=1):\n",
    "    print(f\"{rank}. {species} (Score: {score})\")\n"
   ]
  }
 ],
 "metadata": {
  "kernelspec": {
   "display_name": "env",
   "language": "python",
   "name": "python3"
  },
  "language_info": {
   "codemirror_mode": {
    "name": "ipython",
    "version": 3
   },
   "file_extension": ".py",
   "mimetype": "text/x-python",
   "name": "python",
   "nbconvert_exporter": "python",
   "pygments_lexer": "ipython3",
   "version": "3.10.6"
  }
 },
 "nbformat": 4,
 "nbformat_minor": 2
}
